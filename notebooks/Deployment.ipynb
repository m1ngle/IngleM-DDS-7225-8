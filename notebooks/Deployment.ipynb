{
 "cells": [
  {
   "cell_type": "code",
   "execution_count": null,
   "metadata": {},
   "outputs": [],
   "source": [
    "pip install -r requirements.txt\n",
    "best_model = pd.read_pickle(\"data/best_model.pkl\")"
   ]
  },
  {
   "cell_type": "code",
   "execution_count": null,
   "metadata": {},
   "outputs": [],
   "source": [
    "import json\n",
    "import pickle\n",
    "import numpy as np\n",
    "\n",
    "# Load the best model once when the Lambda container initializes.\n",
    "# Make sure best_model.pkl is packaged with your deployment bundle.\n",
    "with open('best_model.pkl', 'rb') as f:\n",
    "    best_model = pickle.load(f)\n",
    "\n",
    "def lambda_handler(event, context):\n",
    "    \"\"\"\n",
    "    AWS Lambda handler function.\n",
    "    \n",
    "    Expects an HTTP POST request with a JSON body containing a 'features' key,\n",
    "    where the value is a list of feature values for prediction.\n",
    "    \"\"\"\n",
    "    try:\n",
    "        # Parse input\n",
    "        body = json.loads(event.get('body', '{}'))\n",
    "        features = body.get('features', None)\n",
    "        if features is None:\n",
    "            raise ValueError(\"Missing 'features' in request body.\")\n",
    "        \n",
    "        # Convert features to numpy array and reshape as needed.\n",
    "        input_data = np.array(features).reshape(1, -1)\n",
    "        \n",
    "        # Make prediction using the best_model.\n",
    "        prediction = best_model.predict(input_data)\n",
    "        \n",
    "        # Prepare response.\n",
    "        response = {\n",
    "            'statusCode': 200,\n",
    "            'body': json.dumps({\n",
    "                'prediction': prediction.tolist()  # Ensure numpy types are converted to Python types\n",
    "            })\n",
    "        }\n",
    "    except Exception as e:\n",
    "        # If there is an error, return an error message.\n",
    "        response = {\n",
    "            'statusCode': 400,\n",
    "            'body': json.dumps({'error': str(e)})\n",
    "        }\n",
    "    \n",
    "    return response\n"
   ]
  }
 ],
 "metadata": {
  "language_info": {
   "name": "python"
  }
 },
 "nbformat": 4,
 "nbformat_minor": 2
}
